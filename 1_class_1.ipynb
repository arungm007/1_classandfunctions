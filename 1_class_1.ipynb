{
 "cells": [
  {
   "cell_type": "code",
   "execution_count": 1,
   "metadata": {},
   "outputs": [],
   "source": [
    "class subfieldsinAI():\n",
    "    def subfields():\n",
    "        print(\"Sub-feields in AI are:\")\n",
    "        print(\"Machine Learning\")\n",
    "        print(\"Neural networks\")\n",
    "        print(\"Vision\")\n",
    "        print(\"Robotics\")\n",
    "        print(\"Speech processing\")\n",
    "        print(\"Natual Language Processing\")"
   ]
  },
  {
   "cell_type": "code",
   "execution_count": 2,
   "metadata": {},
   "outputs": [
    {
     "name": "stdout",
     "output_type": "stream",
     "text": [
      "Sub-feields in AI are:\n",
      "Machine Learning\n",
      "Neural networks\n",
      "Vision\n",
      "Robotics\n",
      "Speech processing\n",
      "Natual Language Processing\n"
     ]
    }
   ],
   "source": [
    "subfieldsinAI.subfields()"
   ]
  },
  {
   "cell_type": "code",
   "execution_count": 8,
   "metadata": {},
   "outputs": [],
   "source": [
    "class oddeven():\n",
    "    def Oddeven():\n",
    "        num=int(input(\"Enter the num:\"))\n",
    "        if(num%2==1):\n",
    "            result=print(num,\"is odd number\")\n",
    "        if(num%2==0):\n",
    "            result=print(num,\"is even number\")\n",
    "        return result"
   ]
  },
  {
   "cell_type": "code",
   "execution_count": 9,
   "metadata": {},
   "outputs": [
    {
     "name": "stdout",
     "output_type": "stream",
     "text": [
      "Enter the num:52452\n",
      "52452 is even number\n"
     ]
    }
   ],
   "source": [
    "oddeven.Oddeven()"
   ]
  },
  {
   "cell_type": "code",
   "execution_count": 15,
   "metadata": {},
   "outputs": [],
   "source": [
    "class elegible():\n",
    "    def Elegible():\n",
    "        gender=input(\"your gender:\")\n",
    "        age=int(input(\"your age:\"))\n",
    "        if(gender==\"male\"and age>=21):\n",
    "            result=print(\"elegible\")\n",
    "        elif(gender==\"female\"and age>=18):\n",
    "            result=print(\"elegible\")\n",
    "        else:\n",
    "            result=print(\"not elegible\")\n",
    "            return result"
   ]
  },
  {
   "cell_type": "code",
   "execution_count": 16,
   "metadata": {},
   "outputs": [
    {
     "name": "stdout",
     "output_type": "stream",
     "text": [
      "your gender:male\n",
      "your age:20\n",
      "not elegible\n"
     ]
    }
   ],
   "source": [
    "elegible.Elegible()"
   ]
  },
  {
   "cell_type": "code",
   "execution_count": 18,
   "metadata": {},
   "outputs": [],
   "source": [
    "class percentage():\n",
    "    def percentage():\n",
    "        sub1=int(input(\"subject1:\"))\n",
    "        sub2=int(input(\"subject2:\"))\n",
    "        sub3=int(input(\"subject3:\"))\n",
    "        sub4=int(input(\"subject4:\"))\n",
    "        sub5=int(input(\"subject5:\"))\n",
    "        Total=sub1+sub2+sub3+sub4+sub5\n",
    "        result1=print(\"Total:\",Total)\n",
    "        percentage=Total/5\n",
    "        result2=print(\"percentage:\",percentage)\n",
    "        return result1\n",
    "        return result2"
   ]
  },
  {
   "cell_type": "code",
   "execution_count": 19,
   "metadata": {},
   "outputs": [
    {
     "name": "stdout",
     "output_type": "stream",
     "text": [
      "subject1:98\n",
      "subject2:87\n",
      "subject3:95\n",
      "subject4:95\n",
      "subject5:93\n",
      "Total: 468\n",
      "percentage: 93.6\n"
     ]
    }
   ],
   "source": [
    "percentage.percentage()"
   ]
  },
  {
   "cell_type": "code",
   "execution_count": 13,
   "metadata": {},
   "outputs": [],
   "source": [
    "class triangle():\n",
    "    def triangle():\n",
    "        height=int(input(\"height:\"))\n",
    "        breadth=int(input(\"breadth:\"))\n",
    "        area=(height*breadth)/2\n",
    "        result1=print(\"area:\",area)\n",
    "        height1=int(input(\"height1:\"))\n",
    "        height2=int(input(\"height2:\"))\n",
    "        breadth=int(input(\"breadth\"))\n",
    "        perimeter=height1+height2+breadth\n",
    "        result2=print(\"perimeter\",perimeter)\n",
    "        return result1\n",
    "        return result2"
   ]
  },
  {
   "cell_type": "code",
   "execution_count": 14,
   "metadata": {},
   "outputs": [
    {
     "name": "stdout",
     "output_type": "stream",
     "text": [
      "height:32\n",
      "breadth:34\n",
      "area: 544.0\n",
      "height1:2\n",
      "height2:4\n",
      "breadth4\n",
      "perimeter 10\n"
     ]
    }
   ],
   "source": [
    "triangle.triangle()"
   ]
  },
  {
   "cell_type": "code",
   "execution_count": null,
   "metadata": {},
   "outputs": [],
   "source": []
  }
 ],
 "metadata": {
  "kernelspec": {
   "display_name": "Python 3",
   "language": "python",
   "name": "python3"
  },
  "language_info": {
   "codemirror_mode": {
    "name": "ipython",
    "version": 3
   },
   "file_extension": ".py",
   "mimetype": "text/x-python",
   "name": "python",
   "nbconvert_exporter": "python",
   "pygments_lexer": "ipython3",
   "version": "3.7.4"
  }
 },
 "nbformat": 4,
 "nbformat_minor": 2
}
